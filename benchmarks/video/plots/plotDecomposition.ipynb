{
 "cells": [
  {
   "cell_type": "code",
   "execution_count": 9,
   "metadata": {},
   "outputs": [],
   "source": [
    "import numpy as np\n",
    "import matplotlib.pyplot as plt\n",
    "from matplotlib.backends.backend_pdf import PdfPages\n",
    "import csv\n",
    "import os\n",
    "import re\n",
    "from random import *\n",
    "\n",
    "color = ['red', 'blue', 'gray', '#000099', '#3333ff', 'g',\n",
    "         '#ff6600', '#cc0000',\n",
    "         'purple', 'pink', '#000000']\n",
    "\n",
    "patterns = [ \"/\" ,\"+\" , \"x\", \"o\", \"O\", \".\", \"*\",  \"\\\\\" , \"|\" , \"-\" ]\n",
    "\n",
    "def isfloat(value):\n",
    "  try:\n",
    "    float(value)\n",
    "    return True\n",
    "  except ValueError:\n",
    "    return False"
   ]
  },
  {
   "cell_type": "code",
   "execution_count": 10,
   "metadata": {},
   "outputs": [
    {
     "data": {
      "image/png": "[encoded data removed]",
      "text/plain": [
       "<Figure size 2880x720 with 1 Axes>"
      ]
     },
     "metadata": {
      "needs_background": "light"
     },
     "output_type": "display_data"
    }
   ],
   "source": [
    "files = [\"query1.txt\"]\n",
    "counter  = 1\n",
    "\n",
    "queries = ['Query: FindVideo']\n",
    "\n",
    "plt.subplots(figsize=(40, 10))\n",
    "\n",
    "for file in files:\n",
    "\n",
    "    with open(file) as f:\n",
    "        data = []\n",
    "        for line in f:\n",
    "            line = line.split(',') # to deal with blank\n",
    "\n",
    "            if line:            # lines (ie skip them)\n",
    "                # line = [float(i) for i in line]\n",
    "                data.append(line)\n",
    "\n",
    "    labels = []\n",
    "    for i in range(len(data)-1):\n",
    "        labels.append(data[i+1][0])\n",
    "\n",
    "#     print(labels)\n",
    "\n",
    "    xlabels = []\n",
    "    for i in range(len(data[0])-1):\n",
    "        xlabels.append(data[0][i+1].rstrip())\n",
    "\n",
    "#     print(xlabels)\n",
    "\n",
    "    val = []\n",
    "\n",
    "    for i in range(len(data)-1):\n",
    "        # print data[i]\n",
    "        new = []\n",
    "        for j in range(len(data[0])-1):\n",
    "            new.append(float(data[i+1][j+1]))\n",
    "        val.append(new)\n",
    "\n",
    "    for i in range(len(val)):\n",
    "        val[i] = [float(j) for j in val[i]]\n",
    "\n",
    "    val = np.array(val).transpose()\n",
    "#     print(val)\n",
    "\n",
    "    ind = np.arange(len(labels))\n",
    "    width = 0.6       # the width of the bars: can also be len(x) sequence\n",
    "\n",
    "    plt.subplot(130+counter)\n",
    "\n",
    "    p1 = plt.bar(ind, val[0,:], width)\n",
    "    p2 = plt.bar(ind, val[1,:], width,\n",
    "                 bottom=val[0,:])\n",
    "#     p3 = plt.bar(ind, val[2,:], width,\n",
    "#                  bottom=val[1,:] + val[0,:])\n",
    "\n",
    "    plt.title(queries[counter-1], fontsize=16)\n",
    "    plt.xticks(ind, labels, fontsize=14)\n",
    "#     plt.yticks(np.arange(0, 21, 5))\n",
    "\n",
    "    if counter == 1:\n",
    "        plt.ylabel('Time (ms) per query', fontsize=20)\n",
    "        \n",
    "    if counter == 1:\n",
    "        plt.legend((p1[0], p2[0]), xlabels, fontsize=14)\n",
    "        \n",
    "    counter +=1\n",
    "    \n",
    "filename = \"findVideo\"\n",
    "form = [\"pdf\", \"png\"]\n",
    "\n",
    "for fo in form:\n",
    "    outputfile = \"res_\"+ filename + '.' + fo\n",
    "    plt.savefig(outputfile, format=fo, bbox_inches='tight')\n",
    "\n",
    "plt.show()\n",
    "plt.close()"
   ]
  },
  {
   "cell_type": "code",
   "execution_count": null,
   "metadata": {},
   "outputs": [],
   "source": [
    "(10**9 / 8 ) / 9*1024\n",
    "\n",
    "plt.show()"
   ]
  },
  {
   "cell_type": "code",
   "execution_count": null,
   "metadata": {},
   "outputs": [],
   "source": []
  },
  {
   "cell_type": "code",
   "execution_count": null,
   "metadata": {},
   "outputs": [],
   "source": []
  }
 ],
 "metadata": {
  "kernelspec": {
   "display_name": "Python 3",
   "language": "python",
   "name": "python3"
  },
  "language_info": {
   "codemirror_mode": {
    "name": "ipython",
    "version": 3
   },
   "file_extension": ".py",
   "mimetype": "text/x-python",
   "name": "python",
   "nbconvert_exporter": "python",
   "pygments_lexer": "ipython3",
   "version": "3.7.2"
  }
 },
 "nbformat": 4,
 "nbformat_minor": 2
}
